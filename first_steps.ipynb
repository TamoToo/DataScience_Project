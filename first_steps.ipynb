{
 "cells": [
  {
   "cell_type": "markdown",
   "metadata": {},
   "source": [
    "# Importing Necessary modules"
   ]
  },
  {
   "cell_type": "code",
   "execution_count": 1,
   "metadata": {},
   "outputs": [],
   "source": [
    "import numpy as np\n",
    "import pandas as pd\n",
    "from matplotlib import pyplot as plt\n",
    "import seaborn as sns\n",
    "from xml.etree import ElementTree as ET\n",
    "import sqlite3 as sql\n",
    "\n",
    "\n",
    "from sklearn.model_selection import train_test_split\n",
    "from sklearn.model_selection import cross_val_score\n",
    "from sklearn.model_selection import StratifiedKFold\n",
    "from sklearn.metrics import accuracy_score\n",
    "from sklearn.metrics import ConfusionMatrixDisplay\n",
    "from sklearn.model_selection import GridSearchCV\n",
    "\n",
    "\n",
    "# ML models\n",
    "from sklearn.linear_model import LogisticRegression\n",
    "from sklearn.tree import DecisionTreeClassifier\n",
    "from sklearn.neighbors import KNeighborsClassifier\n",
    "from sklearn.discriminant_analysis import LinearDiscriminantAnalysis\n",
    "from sklearn.naive_bayes import GaussianNB\n",
    "from sklearn.svm import SVC\n",
    "from sklearn.ensemble import RandomForestClassifier"
   ]
  },
  {
   "cell_type": "markdown",
   "metadata": {},
   "source": [
    "# Importing Data"
   ]
  },
  {
   "cell_type": "code",
   "execution_count": 2,
   "metadata": {},
   "outputs": [
    {
     "data": {
      "text/html": [
       "<div>\n",
       "<style scoped>\n",
       "    .dataframe tbody tr th:only-of-type {\n",
       "        vertical-align: middle;\n",
       "    }\n",
       "\n",
       "    .dataframe tbody tr th {\n",
       "        vertical-align: top;\n",
       "    }\n",
       "\n",
       "    .dataframe thead th {\n",
       "        text-align: right;\n",
       "    }\n",
       "</style>\n",
       "<table border=\"1\" class=\"dataframe\">\n",
       "  <thead>\n",
       "    <tr style=\"text-align: right;\">\n",
       "      <th></th>\n",
       "      <th>id</th>\n",
       "      <th>country_id</th>\n",
       "      <th>name</th>\n",
       "    </tr>\n",
       "  </thead>\n",
       "  <tbody>\n",
       "    <tr>\n",
       "      <th>0</th>\n",
       "      <td>1</td>\n",
       "      <td>1</td>\n",
       "      <td>Belgium Jupiler League</td>\n",
       "    </tr>\n",
       "    <tr>\n",
       "      <th>1</th>\n",
       "      <td>1729</td>\n",
       "      <td>1729</td>\n",
       "      <td>England Premier League</td>\n",
       "    </tr>\n",
       "    <tr>\n",
       "      <th>2</th>\n",
       "      <td>4769</td>\n",
       "      <td>4769</td>\n",
       "      <td>France Ligue 1</td>\n",
       "    </tr>\n",
       "    <tr>\n",
       "      <th>3</th>\n",
       "      <td>7809</td>\n",
       "      <td>7809</td>\n",
       "      <td>Germany 1. Bundesliga</td>\n",
       "    </tr>\n",
       "    <tr>\n",
       "      <th>4</th>\n",
       "      <td>10257</td>\n",
       "      <td>10257</td>\n",
       "      <td>Italy Serie A</td>\n",
       "    </tr>\n",
       "    <tr>\n",
       "      <th>5</th>\n",
       "      <td>13274</td>\n",
       "      <td>13274</td>\n",
       "      <td>Netherlands Eredivisie</td>\n",
       "    </tr>\n",
       "    <tr>\n",
       "      <th>6</th>\n",
       "      <td>15722</td>\n",
       "      <td>15722</td>\n",
       "      <td>Poland Ekstraklasa</td>\n",
       "    </tr>\n",
       "    <tr>\n",
       "      <th>7</th>\n",
       "      <td>17642</td>\n",
       "      <td>17642</td>\n",
       "      <td>Portugal Liga ZON Sagres</td>\n",
       "    </tr>\n",
       "    <tr>\n",
       "      <th>8</th>\n",
       "      <td>19694</td>\n",
       "      <td>19694</td>\n",
       "      <td>Scotland Premier League</td>\n",
       "    </tr>\n",
       "    <tr>\n",
       "      <th>9</th>\n",
       "      <td>21518</td>\n",
       "      <td>21518</td>\n",
       "      <td>Spain LIGA BBVA</td>\n",
       "    </tr>\n",
       "    <tr>\n",
       "      <th>10</th>\n",
       "      <td>24558</td>\n",
       "      <td>24558</td>\n",
       "      <td>Switzerland Super League</td>\n",
       "    </tr>\n",
       "  </tbody>\n",
       "</table>\n",
       "</div>"
      ],
      "text/plain": [
       "       id  country_id                      name\n",
       "0       1           1    Belgium Jupiler League\n",
       "1    1729        1729    England Premier League\n",
       "2    4769        4769            France Ligue 1\n",
       "3    7809        7809     Germany 1. Bundesliga\n",
       "4   10257       10257             Italy Serie A\n",
       "5   13274       13274    Netherlands Eredivisie\n",
       "6   15722       15722        Poland Ekstraklasa\n",
       "7   17642       17642  Portugal Liga ZON Sagres\n",
       "8   19694       19694   Scotland Premier League\n",
       "9   21518       21518           Spain LIGA BBVA\n",
       "10  24558       24558  Switzerland Super League"
      ]
     },
     "execution_count": 2,
     "metadata": {},
     "output_type": "execute_result"
    }
   ],
   "source": [
    "db = sql.connect(\"database.sqlite\")\n",
    "league_ids = pd.read_sql(\"SELECT * FROM League\", db)\n",
    "league_ids"
   ]
  },
  {
   "cell_type": "code",
   "execution_count": 3,
   "metadata": {},
   "outputs": [],
   "source": [
    "chosen_id = 1729\n",
    "match_data = pd.read_sql_query(f\"SELECT season, date, home_team_api_id, (SELECT team_long_name FROM Team WHERE home_team_api_id = team_api_id) as home_team_name, away_team_api_id, (SELECT team_long_name FROM Team WHERE away_team_api_id = team_api_id) as away_team_name, home_team_goal, away_team_goal, shoton, shotoff, foulcommit, card, cross, corner, possession, B365H, B365D, B365A, BWH, BWD, BWA, IWH, IWD, IWA, LBH, LBD, LBA, PSH, PSD, PSA, WHH, WHD, WHA, SJH, SJD, SJA, VCH, VCD, VCA, GBH, GBD, GBA, BSH, BSD, BSA FROM Match WHERE league_id = {chosen_id} ORDER BY date\", db)\n"
   ]
  },
  {
   "cell_type": "code",
   "execution_count": 4,
   "metadata": {},
   "outputs": [
    {
     "data": {
      "text/html": [
       "<div>\n",
       "<style scoped>\n",
       "    .dataframe tbody tr th:only-of-type {\n",
       "        vertical-align: middle;\n",
       "    }\n",
       "\n",
       "    .dataframe tbody tr th {\n",
       "        vertical-align: top;\n",
       "    }\n",
       "\n",
       "    .dataframe thead th {\n",
       "        text-align: right;\n",
       "    }\n",
       "</style>\n",
       "<table border=\"1\" class=\"dataframe\">\n",
       "  <thead>\n",
       "    <tr style=\"text-align: right;\">\n",
       "      <th></th>\n",
       "      <th>season</th>\n",
       "      <th>date</th>\n",
       "      <th>home_team_api_id</th>\n",
       "      <th>home_team_name</th>\n",
       "      <th>away_team_api_id</th>\n",
       "      <th>away_team_name</th>\n",
       "      <th>home_team_goal</th>\n",
       "      <th>away_team_goal</th>\n",
       "      <th>shoton</th>\n",
       "      <th>shotoff</th>\n",
       "      <th>...</th>\n",
       "      <th>SJA</th>\n",
       "      <th>VCH</th>\n",
       "      <th>VCD</th>\n",
       "      <th>VCA</th>\n",
       "      <th>GBH</th>\n",
       "      <th>GBD</th>\n",
       "      <th>GBA</th>\n",
       "      <th>BSH</th>\n",
       "      <th>BSD</th>\n",
       "      <th>BSA</th>\n",
       "    </tr>\n",
       "  </thead>\n",
       "  <tbody>\n",
       "    <tr>\n",
       "      <th>0</th>\n",
       "      <td>2008/2009</td>\n",
       "      <td>2008-08-16 00:00:00</td>\n",
       "      <td>9825</td>\n",
       "      <td>Arsenal</td>\n",
       "      <td>8659</td>\n",
       "      <td>West Bromwich Albion</td>\n",
       "      <td>1</td>\n",
       "      <td>0</td>\n",
       "      <td>&lt;shoton&gt;&lt;value&gt;&lt;stats&gt;&lt;blocked&gt;1&lt;/blocked&gt;&lt;/st...</td>\n",
       "      <td>&lt;shotoff&gt;&lt;value&gt;&lt;stats&gt;&lt;shotoff&gt;1&lt;/shotoff&gt;&lt;/s...</td>\n",
       "      <td>...</td>\n",
       "      <td>12.00</td>\n",
       "      <td>1.25</td>\n",
       "      <td>6.0</td>\n",
       "      <td>13.00</td>\n",
       "      <td>1.22</td>\n",
       "      <td>5.50</td>\n",
       "      <td>13.00</td>\n",
       "      <td>1.22</td>\n",
       "      <td>5.00</td>\n",
       "      <td>13.00</td>\n",
       "    </tr>\n",
       "    <tr>\n",
       "      <th>1</th>\n",
       "      <td>2008/2009</td>\n",
       "      <td>2008-08-16 00:00:00</td>\n",
       "      <td>8472</td>\n",
       "      <td>Sunderland</td>\n",
       "      <td>8650</td>\n",
       "      <td>Liverpool</td>\n",
       "      <td>0</td>\n",
       "      <td>1</td>\n",
       "      <td>&lt;shoton&gt;&lt;value&gt;&lt;stats&gt;&lt;blocked&gt;1&lt;/blocked&gt;&lt;/st...</td>\n",
       "      <td>&lt;shotoff&gt;&lt;value&gt;&lt;stats&gt;&lt;shotoff&gt;1&lt;/shotoff&gt;&lt;/s...</td>\n",
       "      <td>...</td>\n",
       "      <td>1.73</td>\n",
       "      <td>5.50</td>\n",
       "      <td>3.8</td>\n",
       "      <td>1.65</td>\n",
       "      <td>5.00</td>\n",
       "      <td>3.40</td>\n",
       "      <td>1.70</td>\n",
       "      <td>4.50</td>\n",
       "      <td>3.40</td>\n",
       "      <td>1.73</td>\n",
       "    </tr>\n",
       "    <tr>\n",
       "      <th>2</th>\n",
       "      <td>2008/2009</td>\n",
       "      <td>2008-08-16 00:00:00</td>\n",
       "      <td>8654</td>\n",
       "      <td>West Ham United</td>\n",
       "      <td>8528</td>\n",
       "      <td>Wigan Athletic</td>\n",
       "      <td>2</td>\n",
       "      <td>1</td>\n",
       "      <td>&lt;shoton&gt;&lt;value&gt;&lt;stats&gt;&lt;shoton&gt;1&lt;/shoton&gt;&lt;/stat...</td>\n",
       "      <td>&lt;shotoff&gt;&lt;value&gt;&lt;stats&gt;&lt;shotoff&gt;1&lt;/shotoff&gt;&lt;/s...</td>\n",
       "      <td>...</td>\n",
       "      <td>3.75</td>\n",
       "      <td>1.90</td>\n",
       "      <td>3.5</td>\n",
       "      <td>4.35</td>\n",
       "      <td>1.91</td>\n",
       "      <td>3.25</td>\n",
       "      <td>4.00</td>\n",
       "      <td>1.91</td>\n",
       "      <td>3.25</td>\n",
       "      <td>3.80</td>\n",
       "    </tr>\n",
       "    <tr>\n",
       "      <th>3</th>\n",
       "      <td>2008/2009</td>\n",
       "      <td>2008-08-16 00:00:00</td>\n",
       "      <td>8668</td>\n",
       "      <td>Everton</td>\n",
       "      <td>8655</td>\n",
       "      <td>Blackburn Rovers</td>\n",
       "      <td>2</td>\n",
       "      <td>3</td>\n",
       "      <td>&lt;shoton&gt;&lt;value&gt;&lt;stats&gt;&lt;shoton&gt;1&lt;/shoton&gt;&lt;/stat...</td>\n",
       "      <td>&lt;shotoff&gt;&lt;value&gt;&lt;stats&gt;&lt;shotoff&gt;1&lt;/shotoff&gt;&lt;/s...</td>\n",
       "      <td>...</td>\n",
       "      <td>3.40</td>\n",
       "      <td>2.05</td>\n",
       "      <td>3.3</td>\n",
       "      <td>4.00</td>\n",
       "      <td>2.00</td>\n",
       "      <td>3.25</td>\n",
       "      <td>3.75</td>\n",
       "      <td>2.00</td>\n",
       "      <td>3.25</td>\n",
       "      <td>3.50</td>\n",
       "    </tr>\n",
       "    <tr>\n",
       "      <th>4</th>\n",
       "      <td>2008/2009</td>\n",
       "      <td>2008-08-16 00:00:00</td>\n",
       "      <td>8549</td>\n",
       "      <td>Middlesbrough</td>\n",
       "      <td>8586</td>\n",
       "      <td>Tottenham Hotspur</td>\n",
       "      <td>2</td>\n",
       "      <td>1</td>\n",
       "      <td>&lt;shoton&gt;&lt;value&gt;&lt;stats&gt;&lt;shoton&gt;1&lt;/shoton&gt;&lt;/stat...</td>\n",
       "      <td>&lt;shotoff&gt;&lt;value&gt;&lt;stats&gt;&lt;shotoff&gt;1&lt;/shotoff&gt;&lt;/s...</td>\n",
       "      <td>...</td>\n",
       "      <td>2.20</td>\n",
       "      <td>3.20</td>\n",
       "      <td>3.4</td>\n",
       "      <td>2.30</td>\n",
       "      <td>3.00</td>\n",
       "      <td>3.25</td>\n",
       "      <td>2.30</td>\n",
       "      <td>2.80</td>\n",
       "      <td>3.25</td>\n",
       "      <td>2.30</td>\n",
       "    </tr>\n",
       "  </tbody>\n",
       "</table>\n",
       "<p>5 rows × 45 columns</p>\n",
       "</div>"
      ],
      "text/plain": [
       "      season                 date  home_team_api_id   home_team_name  \\\n",
       "0  2008/2009  2008-08-16 00:00:00              9825          Arsenal   \n",
       "1  2008/2009  2008-08-16 00:00:00              8472       Sunderland   \n",
       "2  2008/2009  2008-08-16 00:00:00              8654  West Ham United   \n",
       "3  2008/2009  2008-08-16 00:00:00              8668          Everton   \n",
       "4  2008/2009  2008-08-16 00:00:00              8549    Middlesbrough   \n",
       "\n",
       "   away_team_api_id        away_team_name  home_team_goal  away_team_goal  \\\n",
       "0              8659  West Bromwich Albion               1               0   \n",
       "1              8650             Liverpool               0               1   \n",
       "2              8528        Wigan Athletic               2               1   \n",
       "3              8655      Blackburn Rovers               2               3   \n",
       "4              8586     Tottenham Hotspur               2               1   \n",
       "\n",
       "                                              shoton  \\\n",
       "0  <shoton><value><stats><blocked>1</blocked></st...   \n",
       "1  <shoton><value><stats><blocked>1</blocked></st...   \n",
       "2  <shoton><value><stats><shoton>1</shoton></stat...   \n",
       "3  <shoton><value><stats><shoton>1</shoton></stat...   \n",
       "4  <shoton><value><stats><shoton>1</shoton></stat...   \n",
       "\n",
       "                                             shotoff  ...    SJA   VCH  VCD  \\\n",
       "0  <shotoff><value><stats><shotoff>1</shotoff></s...  ...  12.00  1.25  6.0   \n",
       "1  <shotoff><value><stats><shotoff>1</shotoff></s...  ...   1.73  5.50  3.8   \n",
       "2  <shotoff><value><stats><shotoff>1</shotoff></s...  ...   3.75  1.90  3.5   \n",
       "3  <shotoff><value><stats><shotoff>1</shotoff></s...  ...   3.40  2.05  3.3   \n",
       "4  <shotoff><value><stats><shotoff>1</shotoff></s...  ...   2.20  3.20  3.4   \n",
       "\n",
       "     VCA   GBH   GBD    GBA   BSH   BSD    BSA  \n",
       "0  13.00  1.22  5.50  13.00  1.22  5.00  13.00  \n",
       "1   1.65  5.00  3.40   1.70  4.50  3.40   1.73  \n",
       "2   4.35  1.91  3.25   4.00  1.91  3.25   3.80  \n",
       "3   4.00  2.00  3.25   3.75  2.00  3.25   3.50  \n",
       "4   2.30  3.00  3.25   2.30  2.80  3.25   2.30  \n",
       "\n",
       "[5 rows x 45 columns]"
      ]
     },
     "execution_count": 4,
     "metadata": {},
     "output_type": "execute_result"
    }
   ],
   "source": [
    "match_data.head(5)"
   ]
  },
  {
   "cell_type": "markdown",
   "metadata": {},
   "source": [
    "# Data Preprocessing"
   ]
  },
  {
   "cell_type": "markdown",
   "metadata": {},
   "source": [
    "## Averaging the betting odds data"
   ]
  },
  {
   "cell_type": "code",
   "execution_count": 5,
   "metadata": {},
   "outputs": [],
   "source": [
    "bettings_odds_names = ['B365', 'BW', 'IW', 'LB', 'PS', 'WH', 'SJ', 'VC', 'GB', 'BS']\n",
    "home_odds_names = [str(name + 'H') for name in bettings_odds_names]\n",
    "draw_odds_names = [str(name + 'D') for name in bettings_odds_names]\n",
    "away_odds_names = [str(name + 'A') for name in bettings_odds_names]"
   ]
  },
  {
   "cell_type": "code",
   "execution_count": 6,
   "metadata": {},
   "outputs": [],
   "source": [
    "match_data['odds_home_winning'] = match_data[home_odds_names].mean(axis=1)\n",
    "match_data['odds_draw'] = match_data[draw_odds_names].mean(axis=1)\n",
    "match_data['odds_home_losing'] = match_data[away_odds_names].mean(axis=1)"
   ]
  },
  {
   "cell_type": "code",
   "execution_count": 7,
   "metadata": {},
   "outputs": [],
   "source": [
    "match_data.drop(columns=(home_odds_names + draw_odds_names + away_odds_names), inplace=True)"
   ]
  },
  {
   "cell_type": "markdown",
   "metadata": {},
   "source": [
    "## Extracting xml data from the necessary columns"
   ]
  },
  {
   "cell_type": "code",
   "execution_count": 8,
   "metadata": {},
   "outputs": [],
   "source": [
    "def extract_xml_data(xml_document, home_team, away_team, card_type='y'):\n",
    "    root = ET.fromstring(xml_document)\n",
    "    stat_home_team = 0\n",
    "    stat_away_team = 0\n",
    "    \n",
    "    #Dealing with card type using the root element & the card type argument\n",
    "    if root.tag == 'card':\n",
    "        for child in root.iter('value'):\n",
    "            #Some xml docs have no card_type element in the tree. comment section seems to have that information\n",
    "            try:\n",
    "                if child.find('comment').text == card_type:\n",
    "                    if int(child.find('team').text) == home_team:\n",
    "                        stat_home_team += 1\n",
    "                    else:\n",
    "                        stat_away_team += 1\n",
    "            except AttributeError:\n",
    "                #Some values in the xml doc don't have team values, so there isn't much we can do at this stage\n",
    "                pass\n",
    "                \n",
    "        return stat_home_team - stat_away_team\n",
    "    \n",
    "    #Lets take the last possession stat which is available from the xml doc\n",
    "    if root.tag == 'possession':\n",
    "        try:\n",
    "            last_value = [child for child in root.iter('value')][-1]\n",
    "            return int(last_value.find('homepos').text) - int(last_value.find('awaypos').text)\n",
    "        except:\n",
    "            return None\n",
    "    \n",
    "    #Taking care of all other stats by extracting based on the home team & away team api id's\n",
    "    for team in [int(stat.text) for stat in root.findall('value/team')]:\n",
    "        if team == home_team: \n",
    "            stat_home_team += 1\n",
    "        else:\n",
    "            stat_away_team += 1\n",
    "    return stat_home_team - stat_away_team"
   ]
  },
  {
   "cell_type": "code",
   "execution_count": 9,
   "metadata": {},
   "outputs": [],
   "source": [
    "match_data['on_target_shot'] = match_data[['shoton','home_team_api_id','away_team_api_id']].apply(lambda x: extract_xml_data(x['shoton'],x['home_team_api_id'],x['away_team_api_id']), axis = 1,result_type=\"expand\")  \n",
    "match_data['off_target_shot'] = match_data[['shotoff','home_team_api_id','away_team_api_id']].apply(lambda x: extract_xml_data(x['shotoff'],x['home_team_api_id'],x['away_team_api_id']), axis = 1,result_type=\"expand\") \n",
    "match_data['foul'] = match_data[['foulcommit','home_team_api_id','away_team_api_id']].apply(lambda x: extract_xml_data(x['foulcommit'],x['home_team_api_id'],x['away_team_api_id']), axis = 1,result_type=\"expand\")  \n",
    "match_data['yellow_card'] = match_data[['card','home_team_api_id','away_team_api_id']].apply(lambda x: extract_xml_data(x['card'],x['home_team_api_id'],x['away_team_api_id']), axis = 1,result_type=\"expand\")\n",
    "match_data['red_card'] = match_data[['card','home_team_api_id','away_team_api_id']].apply(lambda x: extract_xml_data(x['card'],x['home_team_api_id'],x['away_team_api_id'], card_type='r'), axis = 1,result_type=\"expand\")  \n",
    "match_data['crosses'] = match_data[['cross','home_team_api_id','away_team_api_id']].apply(lambda x: extract_xml_data(x['cross'],x['home_team_api_id'],x['away_team_api_id']), axis = 1,result_type=\"expand\")  \n",
    "match_data['corners'] = match_data[['corner','home_team_api_id','away_team_api_id']].apply(lambda x: extract_xml_data(x['corner'],x['home_team_api_id'],x['away_team_api_id']), axis = 1,result_type=\"expand\")  \n",
    "match_data['possessions'] = match_data[['possession','home_team_api_id','away_team_api_id']].apply(lambda x: extract_xml_data(x['possession'],x['home_team_api_id'],x['away_team_api_id']), axis = 1,result_type=\"expand\")"
   ]
  },
  {
   "cell_type": "code",
   "execution_count": 10,
   "metadata": {},
   "outputs": [
    {
     "data": {
      "text/html": [
       "<div>\n",
       "<style scoped>\n",
       "    .dataframe tbody tr th:only-of-type {\n",
       "        vertical-align: middle;\n",
       "    }\n",
       "\n",
       "    .dataframe tbody tr th {\n",
       "        vertical-align: top;\n",
       "    }\n",
       "\n",
       "    .dataframe thead th {\n",
       "        text-align: right;\n",
       "    }\n",
       "</style>\n",
       "<table border=\"1\" class=\"dataframe\">\n",
       "  <thead>\n",
       "    <tr style=\"text-align: right;\">\n",
       "      <th></th>\n",
       "      <th>home_team_api_id</th>\n",
       "      <th>away_team_api_id</th>\n",
       "      <th>home_team_goal</th>\n",
       "      <th>away_team_goal</th>\n",
       "      <th>odds_home_winning</th>\n",
       "      <th>odds_draw</th>\n",
       "      <th>odds_home_losing</th>\n",
       "      <th>on_target_shot</th>\n",
       "      <th>off_target_shot</th>\n",
       "      <th>foul</th>\n",
       "      <th>yellow_card</th>\n",
       "      <th>red_card</th>\n",
       "      <th>crosses</th>\n",
       "      <th>corners</th>\n",
       "      <th>possessions</th>\n",
       "    </tr>\n",
       "  </thead>\n",
       "  <tbody>\n",
       "    <tr>\n",
       "      <th>count</th>\n",
       "      <td>3040.00000</td>\n",
       "      <td>3040.00000</td>\n",
       "      <td>3040.000000</td>\n",
       "      <td>3040.000000</td>\n",
       "      <td>3040.000000</td>\n",
       "      <td>3040.000000</td>\n",
       "      <td>3040.000000</td>\n",
       "      <td>3040.000000</td>\n",
       "      <td>3040.000000</td>\n",
       "      <td>3040.000000</td>\n",
       "      <td>3040.000000</td>\n",
       "      <td>3040.000000</td>\n",
       "      <td>3040.000000</td>\n",
       "      <td>3040.000000</td>\n",
       "      <td>3034.000000</td>\n",
       "    </tr>\n",
       "    <tr>\n",
       "      <th>mean</th>\n",
       "      <td>9142.27500</td>\n",
       "      <td>9142.27500</td>\n",
       "      <td>1.550987</td>\n",
       "      <td>1.159539</td>\n",
       "      <td>2.641570</td>\n",
       "      <td>3.829071</td>\n",
       "      <td>4.676016</td>\n",
       "      <td>1.409539</td>\n",
       "      <td>1.394408</td>\n",
       "      <td>-0.706579</td>\n",
       "      <td>-0.387171</td>\n",
       "      <td>-0.011184</td>\n",
       "      <td>4.665132</td>\n",
       "      <td>1.315132</td>\n",
       "      <td>3.353988</td>\n",
       "    </tr>\n",
       "    <tr>\n",
       "      <th>std</th>\n",
       "      <td>753.08936</td>\n",
       "      <td>753.08936</td>\n",
       "      <td>1.311615</td>\n",
       "      <td>1.144629</td>\n",
       "      <td>1.571523</td>\n",
       "      <td>0.878331</td>\n",
       "      <td>3.511445</td>\n",
       "      <td>4.989991</td>\n",
       "      <td>4.472434</td>\n",
       "      <td>4.668415</td>\n",
       "      <td>1.597475</td>\n",
       "      <td>0.305494</td>\n",
       "      <td>11.931155</td>\n",
       "      <td>4.613531</td>\n",
       "      <td>17.281878</td>\n",
       "    </tr>\n",
       "    <tr>\n",
       "      <th>min</th>\n",
       "      <td>8191.00000</td>\n",
       "      <td>8191.00000</td>\n",
       "      <td>0.000000</td>\n",
       "      <td>0.000000</td>\n",
       "      <td>1.092222</td>\n",
       "      <td>3.020000</td>\n",
       "      <td>1.235556</td>\n",
       "      <td>-16.000000</td>\n",
       "      <td>-14.000000</td>\n",
       "      <td>-18.000000</td>\n",
       "      <td>-6.000000</td>\n",
       "      <td>-2.000000</td>\n",
       "      <td>-41.000000</td>\n",
       "      <td>-16.000000</td>\n",
       "      <td>-92.000000</td>\n",
       "    </tr>\n",
       "    <tr>\n",
       "      <th>25%</th>\n",
       "      <td>8528.00000</td>\n",
       "      <td>8528.00000</td>\n",
       "      <td>1.000000</td>\n",
       "      <td>0.000000</td>\n",
       "      <td>1.666187</td>\n",
       "      <td>3.288889</td>\n",
       "      <td>2.460833</td>\n",
       "      <td>-2.000000</td>\n",
       "      <td>-2.000000</td>\n",
       "      <td>-4.000000</td>\n",
       "      <td>-1.000000</td>\n",
       "      <td>0.000000</td>\n",
       "      <td>-3.000000</td>\n",
       "      <td>-2.000000</td>\n",
       "      <td>-8.000000</td>\n",
       "    </tr>\n",
       "    <tr>\n",
       "      <th>50%</th>\n",
       "      <td>8659.00000</td>\n",
       "      <td>8659.00000</td>\n",
       "      <td>1.000000</td>\n",
       "      <td>1.000000</td>\n",
       "      <td>2.144444</td>\n",
       "      <td>3.455556</td>\n",
       "      <td>3.448500</td>\n",
       "      <td>1.000000</td>\n",
       "      <td>1.000000</td>\n",
       "      <td>-1.000000</td>\n",
       "      <td>0.000000</td>\n",
       "      <td>0.000000</td>\n",
       "      <td>4.000000</td>\n",
       "      <td>1.000000</td>\n",
       "      <td>4.000000</td>\n",
       "    </tr>\n",
       "    <tr>\n",
       "      <th>75%</th>\n",
       "      <td>9879.00000</td>\n",
       "      <td>9879.00000</td>\n",
       "      <td>2.000000</td>\n",
       "      <td>2.000000</td>\n",
       "      <td>2.891905</td>\n",
       "      <td>3.964896</td>\n",
       "      <td>5.338889</td>\n",
       "      <td>4.000000</td>\n",
       "      <td>4.000000</td>\n",
       "      <td>3.000000</td>\n",
       "      <td>1.000000</td>\n",
       "      <td>0.000000</td>\n",
       "      <td>12.000000</td>\n",
       "      <td>4.000000</td>\n",
       "      <td>14.000000</td>\n",
       "    </tr>\n",
       "    <tr>\n",
       "      <th>max</th>\n",
       "      <td>10261.00000</td>\n",
       "      <td>10261.00000</td>\n",
       "      <td>9.000000</td>\n",
       "      <td>6.000000</td>\n",
       "      <td>12.500000</td>\n",
       "      <td>9.194444</td>\n",
       "      <td>23.555556</td>\n",
       "      <td>25.000000</td>\n",
       "      <td>19.000000</td>\n",
       "      <td>14.000000</td>\n",
       "      <td>5.000000</td>\n",
       "      <td>2.000000</td>\n",
       "      <td>66.000000</td>\n",
       "      <td>19.000000</td>\n",
       "      <td>60.000000</td>\n",
       "    </tr>\n",
       "  </tbody>\n",
       "</table>\n",
       "</div>"
      ],
      "text/plain": [
       "       home_team_api_id  away_team_api_id  home_team_goal  away_team_goal  \\\n",
       "count        3040.00000        3040.00000     3040.000000     3040.000000   \n",
       "mean         9142.27500        9142.27500        1.550987        1.159539   \n",
       "std           753.08936         753.08936        1.311615        1.144629   \n",
       "min          8191.00000        8191.00000        0.000000        0.000000   \n",
       "25%          8528.00000        8528.00000        1.000000        0.000000   \n",
       "50%          8659.00000        8659.00000        1.000000        1.000000   \n",
       "75%          9879.00000        9879.00000        2.000000        2.000000   \n",
       "max         10261.00000       10261.00000        9.000000        6.000000   \n",
       "\n",
       "       odds_home_winning    odds_draw  odds_home_losing  on_target_shot  \\\n",
       "count        3040.000000  3040.000000       3040.000000     3040.000000   \n",
       "mean            2.641570     3.829071          4.676016        1.409539   \n",
       "std             1.571523     0.878331          3.511445        4.989991   \n",
       "min             1.092222     3.020000          1.235556      -16.000000   \n",
       "25%             1.666187     3.288889          2.460833       -2.000000   \n",
       "50%             2.144444     3.455556          3.448500        1.000000   \n",
       "75%             2.891905     3.964896          5.338889        4.000000   \n",
       "max            12.500000     9.194444         23.555556       25.000000   \n",
       "\n",
       "       off_target_shot         foul  yellow_card     red_card      crosses  \\\n",
       "count      3040.000000  3040.000000  3040.000000  3040.000000  3040.000000   \n",
       "mean          1.394408    -0.706579    -0.387171    -0.011184     4.665132   \n",
       "std           4.472434     4.668415     1.597475     0.305494    11.931155   \n",
       "min         -14.000000   -18.000000    -6.000000    -2.000000   -41.000000   \n",
       "25%          -2.000000    -4.000000    -1.000000     0.000000    -3.000000   \n",
       "50%           1.000000    -1.000000     0.000000     0.000000     4.000000   \n",
       "75%           4.000000     3.000000     1.000000     0.000000    12.000000   \n",
       "max          19.000000    14.000000     5.000000     2.000000    66.000000   \n",
       "\n",
       "           corners  possessions  \n",
       "count  3040.000000  3034.000000  \n",
       "mean      1.315132     3.353988  \n",
       "std       4.613531    17.281878  \n",
       "min     -16.000000   -92.000000  \n",
       "25%      -2.000000    -8.000000  \n",
       "50%       1.000000     4.000000  \n",
       "75%       4.000000    14.000000  \n",
       "max      19.000000    60.000000  "
      ]
     },
     "execution_count": 10,
     "metadata": {},
     "output_type": "execute_result"
    }
   ],
   "source": [
    "match_data.drop(columns=['shoton', 'shotoff', 'foulcommit', 'card', 'cross', 'corner', 'possession'], inplace=True)"
   ]
  },
  {
   "cell_type": "markdown",
   "metadata": {},
   "source": [
    "## Defining a result column"
   ]
  },
  {
   "cell_type": "code",
   "execution_count": 11,
   "metadata": {},
   "outputs": [],
   "source": [
    "match_data.loc[match_data['home_team_goal'] > match_data['away_team_goal'], 'result'] = 'win'\n",
    "match_data.loc[match_data['home_team_goal'] == match_data['away_team_goal'], 'result'] = 'draw'\n",
    "match_data.loc[match_data['home_team_goal'] < match_data['away_team_goal'], 'result'] = 'lose'"
   ]
  },
  {
   "cell_type": "markdown",
   "metadata": {},
   "source": [
    "## Removing any rows containing N/A value"
   ]
  },
  {
   "cell_type": "code",
   "execution_count": 12,
   "metadata": {},
   "outputs": [],
   "source": [
    "match_data.dropna(axis=0, inplace=True)"
   ]
  },
  {
   "cell_type": "markdown",
   "metadata": {},
   "source": [
    "# Analysing Data"
   ]
  },
  {
   "cell_type": "code",
   "execution_count": 40,
   "metadata": {},
   "outputs": [
    {
     "data": {
      "text/plain": [
       "Index(['season', 'date', 'home_team_api_id', 'home_team_name',\n",
       "       'away_team_api_id', 'away_team_name', 'home_team_goal',\n",
       "       'away_team_goal', 'odds_home_winning', 'odds_draw', 'odds_home_losing',\n",
       "       'on_target_shot', 'off_target_shot', 'foul', 'yellow_card', 'red_card',\n",
       "       'crosses', 'corners', 'possessions', 'result'],\n",
       "      dtype='object')"
      ]
     },
     "execution_count": 40,
     "metadata": {},
     "output_type": "execute_result"
    }
   ],
   "source": [
    "match_data.columns"
   ]
  },
  {
   "cell_type": "code",
   "execution_count": 39,
   "metadata": {},
   "outputs": [
    {
     "data": {
      "text/html": [
       "<div>\n",
       "<style scoped>\n",
       "    .dataframe tbody tr th:only-of-type {\n",
       "        vertical-align: middle;\n",
       "    }\n",
       "\n",
       "    .dataframe tbody tr th {\n",
       "        vertical-align: top;\n",
       "    }\n",
       "\n",
       "    .dataframe thead th {\n",
       "        text-align: right;\n",
       "    }\n",
       "</style>\n",
       "<table border=\"1\" class=\"dataframe\">\n",
       "  <thead>\n",
       "    <tr style=\"text-align: right;\">\n",
       "      <th></th>\n",
       "      <th>home_team_api_id</th>\n",
       "      <th>away_team_api_id</th>\n",
       "      <th>home_team_goal</th>\n",
       "      <th>away_team_goal</th>\n",
       "      <th>odds_home_winning</th>\n",
       "      <th>odds_draw</th>\n",
       "      <th>odds_home_losing</th>\n",
       "      <th>on_target_shot</th>\n",
       "      <th>off_target_shot</th>\n",
       "      <th>foul</th>\n",
       "      <th>yellow_card</th>\n",
       "      <th>red_card</th>\n",
       "      <th>crosses</th>\n",
       "      <th>corners</th>\n",
       "      <th>possessions</th>\n",
       "    </tr>\n",
       "  </thead>\n",
       "  <tbody>\n",
       "    <tr>\n",
       "      <th>count</th>\n",
       "      <td>3034.000000</td>\n",
       "      <td>3034.000000</td>\n",
       "      <td>3034.000000</td>\n",
       "      <td>3034.000000</td>\n",
       "      <td>3034.000000</td>\n",
       "      <td>3034.000000</td>\n",
       "      <td>3034.000000</td>\n",
       "      <td>3034.000000</td>\n",
       "      <td>3034.000000</td>\n",
       "      <td>3034.000000</td>\n",
       "      <td>3034.000000</td>\n",
       "      <td>3034.000000</td>\n",
       "      <td>3034.000000</td>\n",
       "      <td>3034.000000</td>\n",
       "      <td>3034.000000</td>\n",
       "    </tr>\n",
       "    <tr>\n",
       "      <th>mean</th>\n",
       "      <td>9142.544166</td>\n",
       "      <td>9142.427818</td>\n",
       "      <td>1.552736</td>\n",
       "      <td>1.158207</td>\n",
       "      <td>2.640177</td>\n",
       "      <td>3.829852</td>\n",
       "      <td>4.679429</td>\n",
       "      <td>1.406724</td>\n",
       "      <td>1.397495</td>\n",
       "      <td>-0.707976</td>\n",
       "      <td>-0.386618</td>\n",
       "      <td>-0.011206</td>\n",
       "      <td>4.665458</td>\n",
       "      <td>1.314766</td>\n",
       "      <td>3.353988</td>\n",
       "    </tr>\n",
       "    <tr>\n",
       "      <th>std</th>\n",
       "      <td>753.333549</td>\n",
       "      <td>753.178006</td>\n",
       "      <td>1.311651</td>\n",
       "      <td>1.143808</td>\n",
       "      <td>1.570588</td>\n",
       "      <td>0.878952</td>\n",
       "      <td>3.513701</td>\n",
       "      <td>4.990730</td>\n",
       "      <td>4.469430</td>\n",
       "      <td>4.671019</td>\n",
       "      <td>1.597837</td>\n",
       "      <td>0.305796</td>\n",
       "      <td>11.931216</td>\n",
       "      <td>4.616746</td>\n",
       "      <td>17.281878</td>\n",
       "    </tr>\n",
       "    <tr>\n",
       "      <th>min</th>\n",
       "      <td>8191.000000</td>\n",
       "      <td>8191.000000</td>\n",
       "      <td>0.000000</td>\n",
       "      <td>0.000000</td>\n",
       "      <td>1.092222</td>\n",
       "      <td>3.020000</td>\n",
       "      <td>1.235556</td>\n",
       "      <td>-16.000000</td>\n",
       "      <td>-14.000000</td>\n",
       "      <td>-18.000000</td>\n",
       "      <td>-6.000000</td>\n",
       "      <td>-2.000000</td>\n",
       "      <td>-41.000000</td>\n",
       "      <td>-16.000000</td>\n",
       "      <td>-92.000000</td>\n",
       "    </tr>\n",
       "    <tr>\n",
       "      <th>25%</th>\n",
       "      <td>8528.000000</td>\n",
       "      <td>8528.000000</td>\n",
       "      <td>1.000000</td>\n",
       "      <td>0.000000</td>\n",
       "      <td>1.665667</td>\n",
       "      <td>3.288889</td>\n",
       "      <td>2.461111</td>\n",
       "      <td>-2.000000</td>\n",
       "      <td>-2.000000</td>\n",
       "      <td>-4.000000</td>\n",
       "      <td>-1.000000</td>\n",
       "      <td>0.000000</td>\n",
       "      <td>-3.000000</td>\n",
       "      <td>-2.000000</td>\n",
       "      <td>-8.000000</td>\n",
       "    </tr>\n",
       "    <tr>\n",
       "      <th>50%</th>\n",
       "      <td>8659.000000</td>\n",
       "      <td>8659.000000</td>\n",
       "      <td>1.000000</td>\n",
       "      <td>1.000000</td>\n",
       "      <td>2.144444</td>\n",
       "      <td>3.456349</td>\n",
       "      <td>3.450000</td>\n",
       "      <td>1.000000</td>\n",
       "      <td>1.000000</td>\n",
       "      <td>-1.000000</td>\n",
       "      <td>0.000000</td>\n",
       "      <td>0.000000</td>\n",
       "      <td>4.000000</td>\n",
       "      <td>1.000000</td>\n",
       "      <td>4.000000</td>\n",
       "    </tr>\n",
       "    <tr>\n",
       "      <th>75%</th>\n",
       "      <td>9879.000000</td>\n",
       "      <td>9879.000000</td>\n",
       "      <td>2.000000</td>\n",
       "      <td>2.000000</td>\n",
       "      <td>2.891071</td>\n",
       "      <td>3.965799</td>\n",
       "      <td>5.344222</td>\n",
       "      <td>4.000000</td>\n",
       "      <td>4.000000</td>\n",
       "      <td>3.000000</td>\n",
       "      <td>1.000000</td>\n",
       "      <td>0.000000</td>\n",
       "      <td>12.000000</td>\n",
       "      <td>4.000000</td>\n",
       "      <td>14.000000</td>\n",
       "    </tr>\n",
       "    <tr>\n",
       "      <th>max</th>\n",
       "      <td>10261.000000</td>\n",
       "      <td>10261.000000</td>\n",
       "      <td>9.000000</td>\n",
       "      <td>6.000000</td>\n",
       "      <td>12.500000</td>\n",
       "      <td>9.194444</td>\n",
       "      <td>23.555556</td>\n",
       "      <td>25.000000</td>\n",
       "      <td>19.000000</td>\n",
       "      <td>14.000000</td>\n",
       "      <td>5.000000</td>\n",
       "      <td>2.000000</td>\n",
       "      <td>66.000000</td>\n",
       "      <td>19.000000</td>\n",
       "      <td>60.000000</td>\n",
       "    </tr>\n",
       "  </tbody>\n",
       "</table>\n",
       "</div>"
      ],
      "text/plain": [
       "       home_team_api_id  away_team_api_id  home_team_goal  away_team_goal  \\\n",
       "count       3034.000000       3034.000000     3034.000000     3034.000000   \n",
       "mean        9142.544166       9142.427818        1.552736        1.158207   \n",
       "std          753.333549        753.178006        1.311651        1.143808   \n",
       "min         8191.000000       8191.000000        0.000000        0.000000   \n",
       "25%         8528.000000       8528.000000        1.000000        0.000000   \n",
       "50%         8659.000000       8659.000000        1.000000        1.000000   \n",
       "75%         9879.000000       9879.000000        2.000000        2.000000   \n",
       "max        10261.000000      10261.000000        9.000000        6.000000   \n",
       "\n",
       "       odds_home_winning    odds_draw  odds_home_losing  on_target_shot  \\\n",
       "count        3034.000000  3034.000000       3034.000000     3034.000000   \n",
       "mean            2.640177     3.829852          4.679429        1.406724   \n",
       "std             1.570588     0.878952          3.513701        4.990730   \n",
       "min             1.092222     3.020000          1.235556      -16.000000   \n",
       "25%             1.665667     3.288889          2.461111       -2.000000   \n",
       "50%             2.144444     3.456349          3.450000        1.000000   \n",
       "75%             2.891071     3.965799          5.344222        4.000000   \n",
       "max            12.500000     9.194444         23.555556       25.000000   \n",
       "\n",
       "       off_target_shot         foul  yellow_card     red_card      crosses  \\\n",
       "count      3034.000000  3034.000000  3034.000000  3034.000000  3034.000000   \n",
       "mean          1.397495    -0.707976    -0.386618    -0.011206     4.665458   \n",
       "std           4.469430     4.671019     1.597837     0.305796    11.931216   \n",
       "min         -14.000000   -18.000000    -6.000000    -2.000000   -41.000000   \n",
       "25%          -2.000000    -4.000000    -1.000000     0.000000    -3.000000   \n",
       "50%           1.000000    -1.000000     0.000000     0.000000     4.000000   \n",
       "75%           4.000000     3.000000     1.000000     0.000000    12.000000   \n",
       "max          19.000000    14.000000     5.000000     2.000000    66.000000   \n",
       "\n",
       "           corners  possessions  \n",
       "count  3034.000000  3034.000000  \n",
       "mean      1.314766     3.353988  \n",
       "std       4.616746    17.281878  \n",
       "min     -16.000000   -92.000000  \n",
       "25%      -2.000000    -8.000000  \n",
       "50%       1.000000     4.000000  \n",
       "75%       4.000000    14.000000  \n",
       "max      19.000000    60.000000  "
      ]
     },
     "execution_count": 39,
     "metadata": {},
     "output_type": "execute_result"
    }
   ],
   "source": [
    "match_data.describe()"
   ]
  },
  {
   "cell_type": "markdown",
   "metadata": {},
   "source": [
    "# Testing differents models"
   ]
  },
  {
   "cell_type": "code",
   "execution_count": null,
   "metadata": {},
   "outputs": [],
   "source": [
    "df = match_data\n",
    "y = df['result']\n",
    "X = df.loc[:, 'odds_home_winning':'possessions']\n",
    "X.describe()"
   ]
  },
  {
   "cell_type": "code",
   "execution_count": null,
   "metadata": {},
   "outputs": [],
   "source": [
    "X_train, X_test, y_train, y_test = train_test_split(X, y, test_size=0.20, random_state=1, shuffle=True)"
   ]
  },
  {
   "cell_type": "code",
   "execution_count": 17,
   "metadata": {},
   "outputs": [],
   "source": [
    "# Building models\n",
    "models = []\n",
    "models.append(('LR', LogisticRegression(random_state=0, max_iter=1000, solver='saga')))\n",
    "models.append(('KNN', KNeighborsClassifier()))\n",
    "models.append(('LDA', LinearDiscriminantAnalysis()))\n",
    "models.append(('CART', DecisionTreeClassifier(random_state=0)))\n",
    "models.append(('NB', GaussianNB()))\n",
    "models.append(('SVM', SVC(random_state=0)))\n",
    "models.append(('RFC', RandomForestClassifier(random_state=0)))"
   ]
  },
  {
   "cell_type": "markdown",
   "metadata": {},
   "source": [
    "## Models evaluation using kfold and cross validation"
   ]
  },
  {
   "cell_type": "code",
   "execution_count": 18,
   "metadata": {},
   "outputs": [
    {
     "name": "stderr",
     "output_type": "stream",
     "text": [
      "c:\\Anaconda\\envs\\projet_pite\\lib\\site-packages\\sklearn\\linear_model\\_sag.py:352: ConvergenceWarning: The max_iter was reached which means the coef_ did not converge\n",
      "  warnings.warn(\n",
      "c:\\Anaconda\\envs\\projet_pite\\lib\\site-packages\\sklearn\\linear_model\\_sag.py:352: ConvergenceWarning: The max_iter was reached which means the coef_ did not converge\n",
      "  warnings.warn(\n",
      "c:\\Anaconda\\envs\\projet_pite\\lib\\site-packages\\sklearn\\linear_model\\_sag.py:352: ConvergenceWarning: The max_iter was reached which means the coef_ did not converge\n",
      "  warnings.warn(\n",
      "c:\\Anaconda\\envs\\projet_pite\\lib\\site-packages\\sklearn\\linear_model\\_sag.py:352: ConvergenceWarning: The max_iter was reached which means the coef_ did not converge\n",
      "  warnings.warn(\n"
     ]
    },
    {
     "name": "stdout",
     "output_type": "stream",
     "text": [
      "LR: 0.585517 (0.026377)\n",
      "KNN: 0.491111 (0.025431)\n",
      "LDA: 0.586750 (0.022399)\n",
      "CART: 0.462322 (0.036626)\n",
      "NB: 0.492326 (0.039869)\n",
      "SVM: 0.556268 (0.023104)\n",
      "RFC: 0.556248 (0.018354)\n"
     ]
    }
   ],
   "source": [
    "results = []\n",
    "names = []\n",
    "for name, model in models:\n",
    "\tkfold = StratifiedKFold(n_splits=10, random_state=0, shuffle=True)\n",
    "\tcv_results = cross_val_score(model, X_train, y_train, cv=kfold, scoring='accuracy')\n",
    "\tresults.append(cv_results)\n",
    "\tnames.append(name)\n",
    "\tprint('%s: %f (%f)' % (name, cv_results.mean(), cv_results.std()))\n"
   ]
  },
  {
   "cell_type": "markdown",
   "metadata": {},
   "source": [
    "## Tuning best models to find the best one"
   ]
  },
  {
   "cell_type": "code",
   "execution_count": 19,
   "metadata": {},
   "outputs": [],
   "source": [
    "models.clear()"
   ]
  },
  {
   "cell_type": "code",
   "execution_count": 20,
   "metadata": {},
   "outputs": [],
   "source": [
    "models.append(('LR', LogisticRegression(random_state=0, max_iter=1000, solver='saga')))\n",
    "models.append(('LDA', LinearDiscriminantAnalysis()))\n",
    "models.append(('NB', GaussianNB()))\n",
    "models.append(('SVM', SVC(random_state=0)))\n",
    "\n",
    "params = []\n",
    "params.append({'C': np.arange(0.1, 0.3, 0.05), 'multi_class': ('ovr', 'multinomial')})\n",
    "params.append({'solver': ('svd', 'lsqr', 'eigen')})\n",
    "params.append({})\n",
    "params.append({'C': np.arange(0.1, 0.3, 0.05), 'kernel': ('linear', 'poly', 'rbf', 'sigmoid')})\n",
    "\n",
    "zip_models = zip(models, params)\n",
    "dict_models = dict(zip_models)"
   ]
  },
  {
   "cell_type": "code",
   "execution_count": 21,
   "metadata": {},
   "outputs": [],
   "source": [
    "def testing_model(dict_models, X_train, y_train):\n",
    "\n",
    "    for model, params in dict_models.items():\n",
    "        print(f'Finding best parameters for {model[0]}...')\n",
    "        param_search = GridSearchCV(estimator=model[1], param_grid=params, verbose=1)\n",
    "                        \n",
    "        param_search.fit(X_train, y_train)\n",
    "\n",
    "        best_score = param_search.best_score_\n",
    "        best_params = param_search.best_params_\n",
    "\n",
    "        print(f'Best accuracy: {best_score} was obtained with parameters: {best_params}')"
   ]
  },
  {
   "cell_type": "code",
   "execution_count": 22,
   "metadata": {},
   "outputs": [
    {
     "name": "stdout",
     "output_type": "stream",
     "text": [
      "Finding best parameters for LR...\n",
      "Fitting 5 folds for each of 8 candidates, totalling 40 fits\n"
     ]
    },
    {
     "name": "stderr",
     "output_type": "stream",
     "text": [
      "c:\\Anaconda\\envs\\projet_pite\\lib\\site-packages\\sklearn\\linear_model\\_sag.py:352: ConvergenceWarning: The max_iter was reached which means the coef_ did not converge\n",
      "  warnings.warn(\n",
      "c:\\Anaconda\\envs\\projet_pite\\lib\\site-packages\\sklearn\\linear_model\\_sag.py:352: ConvergenceWarning: The max_iter was reached which means the coef_ did not converge\n",
      "  warnings.warn(\n",
      "c:\\Anaconda\\envs\\projet_pite\\lib\\site-packages\\sklearn\\linear_model\\_sag.py:352: ConvergenceWarning: The max_iter was reached which means the coef_ did not converge\n",
      "  warnings.warn(\n",
      "c:\\Anaconda\\envs\\projet_pite\\lib\\site-packages\\sklearn\\linear_model\\_sag.py:352: ConvergenceWarning: The max_iter was reached which means the coef_ did not converge\n",
      "  warnings.warn(\n",
      "c:\\Anaconda\\envs\\projet_pite\\lib\\site-packages\\sklearn\\linear_model\\_sag.py:352: ConvergenceWarning: The max_iter was reached which means the coef_ did not converge\n",
      "  warnings.warn(\n",
      "c:\\Anaconda\\envs\\projet_pite\\lib\\site-packages\\sklearn\\linear_model\\_sag.py:352: ConvergenceWarning: The max_iter was reached which means the coef_ did not converge\n",
      "  warnings.warn(\n",
      "c:\\Anaconda\\envs\\projet_pite\\lib\\site-packages\\sklearn\\linear_model\\_sag.py:352: ConvergenceWarning: The max_iter was reached which means the coef_ did not converge\n",
      "  warnings.warn(\n",
      "c:\\Anaconda\\envs\\projet_pite\\lib\\site-packages\\sklearn\\linear_model\\_sag.py:352: ConvergenceWarning: The max_iter was reached which means the coef_ did not converge\n",
      "  warnings.warn(\n",
      "c:\\Anaconda\\envs\\projet_pite\\lib\\site-packages\\sklearn\\linear_model\\_sag.py:352: ConvergenceWarning: The max_iter was reached which means the coef_ did not converge\n",
      "  warnings.warn(\n",
      "c:\\Anaconda\\envs\\projet_pite\\lib\\site-packages\\sklearn\\linear_model\\_sag.py:352: ConvergenceWarning: The max_iter was reached which means the coef_ did not converge\n",
      "  warnings.warn(\n",
      "c:\\Anaconda\\envs\\projet_pite\\lib\\site-packages\\sklearn\\linear_model\\_sag.py:352: ConvergenceWarning: The max_iter was reached which means the coef_ did not converge\n",
      "  warnings.warn(\n",
      "c:\\Anaconda\\envs\\projet_pite\\lib\\site-packages\\sklearn\\linear_model\\_sag.py:352: ConvergenceWarning: The max_iter was reached which means the coef_ did not converge\n",
      "  warnings.warn(\n",
      "c:\\Anaconda\\envs\\projet_pite\\lib\\site-packages\\sklearn\\linear_model\\_sag.py:352: ConvergenceWarning: The max_iter was reached which means the coef_ did not converge\n",
      "  warnings.warn(\n",
      "c:\\Anaconda\\envs\\projet_pite\\lib\\site-packages\\sklearn\\linear_model\\_sag.py:352: ConvergenceWarning: The max_iter was reached which means the coef_ did not converge\n",
      "  warnings.warn(\n",
      "c:\\Anaconda\\envs\\projet_pite\\lib\\site-packages\\sklearn\\linear_model\\_sag.py:352: ConvergenceWarning: The max_iter was reached which means the coef_ did not converge\n",
      "  warnings.warn(\n",
      "c:\\Anaconda\\envs\\projet_pite\\lib\\site-packages\\sklearn\\linear_model\\_sag.py:352: ConvergenceWarning: The max_iter was reached which means the coef_ did not converge\n",
      "  warnings.warn(\n",
      "c:\\Anaconda\\envs\\projet_pite\\lib\\site-packages\\sklearn\\linear_model\\_sag.py:352: ConvergenceWarning: The max_iter was reached which means the coef_ did not converge\n",
      "  warnings.warn(\n",
      "c:\\Anaconda\\envs\\projet_pite\\lib\\site-packages\\sklearn\\linear_model\\_sag.py:352: ConvergenceWarning: The max_iter was reached which means the coef_ did not converge\n",
      "  warnings.warn(\n",
      "c:\\Anaconda\\envs\\projet_pite\\lib\\site-packages\\sklearn\\linear_model\\_sag.py:352: ConvergenceWarning: The max_iter was reached which means the coef_ did not converge\n",
      "  warnings.warn(\n",
      "c:\\Anaconda\\envs\\projet_pite\\lib\\site-packages\\sklearn\\linear_model\\_sag.py:352: ConvergenceWarning: The max_iter was reached which means the coef_ did not converge\n",
      "  warnings.warn(\n",
      "c:\\Anaconda\\envs\\projet_pite\\lib\\site-packages\\sklearn\\linear_model\\_sag.py:352: ConvergenceWarning: The max_iter was reached which means the coef_ did not converge\n",
      "  warnings.warn(\n",
      "c:\\Anaconda\\envs\\projet_pite\\lib\\site-packages\\sklearn\\linear_model\\_sag.py:352: ConvergenceWarning: The max_iter was reached which means the coef_ did not converge\n",
      "  warnings.warn(\n",
      "c:\\Anaconda\\envs\\projet_pite\\lib\\site-packages\\sklearn\\linear_model\\_sag.py:352: ConvergenceWarning: The max_iter was reached which means the coef_ did not converge\n",
      "  warnings.warn(\n",
      "c:\\Anaconda\\envs\\projet_pite\\lib\\site-packages\\sklearn\\linear_model\\_sag.py:352: ConvergenceWarning: The max_iter was reached which means the coef_ did not converge\n",
      "  warnings.warn(\n",
      "c:\\Anaconda\\envs\\projet_pite\\lib\\site-packages\\sklearn\\linear_model\\_sag.py:352: ConvergenceWarning: The max_iter was reached which means the coef_ did not converge\n",
      "  warnings.warn(\n",
      "c:\\Anaconda\\envs\\projet_pite\\lib\\site-packages\\sklearn\\linear_model\\_sag.py:352: ConvergenceWarning: The max_iter was reached which means the coef_ did not converge\n",
      "  warnings.warn(\n",
      "c:\\Anaconda\\envs\\projet_pite\\lib\\site-packages\\sklearn\\linear_model\\_sag.py:352: ConvergenceWarning: The max_iter was reached which means the coef_ did not converge\n",
      "  warnings.warn(\n",
      "c:\\Anaconda\\envs\\projet_pite\\lib\\site-packages\\sklearn\\linear_model\\_sag.py:352: ConvergenceWarning: The max_iter was reached which means the coef_ did not converge\n",
      "  warnings.warn(\n",
      "c:\\Anaconda\\envs\\projet_pite\\lib\\site-packages\\sklearn\\linear_model\\_sag.py:352: ConvergenceWarning: The max_iter was reached which means the coef_ did not converge\n",
      "  warnings.warn(\n",
      "c:\\Anaconda\\envs\\projet_pite\\lib\\site-packages\\sklearn\\linear_model\\_sag.py:352: ConvergenceWarning: The max_iter was reached which means the coef_ did not converge\n",
      "  warnings.warn(\n",
      "c:\\Anaconda\\envs\\projet_pite\\lib\\site-packages\\sklearn\\linear_model\\_sag.py:352: ConvergenceWarning: The max_iter was reached which means the coef_ did not converge\n",
      "  warnings.warn(\n",
      "c:\\Anaconda\\envs\\projet_pite\\lib\\site-packages\\sklearn\\linear_model\\_sag.py:352: ConvergenceWarning: The max_iter was reached which means the coef_ did not converge\n",
      "  warnings.warn(\n",
      "c:\\Anaconda\\envs\\projet_pite\\lib\\site-packages\\sklearn\\linear_model\\_sag.py:352: ConvergenceWarning: The max_iter was reached which means the coef_ did not converge\n",
      "  warnings.warn(\n",
      "c:\\Anaconda\\envs\\projet_pite\\lib\\site-packages\\sklearn\\linear_model\\_sag.py:352: ConvergenceWarning: The max_iter was reached which means the coef_ did not converge\n",
      "  warnings.warn(\n",
      "c:\\Anaconda\\envs\\projet_pite\\lib\\site-packages\\sklearn\\linear_model\\_sag.py:352: ConvergenceWarning: The max_iter was reached which means the coef_ did not converge\n",
      "  warnings.warn(\n",
      "c:\\Anaconda\\envs\\projet_pite\\lib\\site-packages\\sklearn\\linear_model\\_sag.py:352: ConvergenceWarning: The max_iter was reached which means the coef_ did not converge\n",
      "  warnings.warn(\n",
      "c:\\Anaconda\\envs\\projet_pite\\lib\\site-packages\\sklearn\\linear_model\\_sag.py:352: ConvergenceWarning: The max_iter was reached which means the coef_ did not converge\n",
      "  warnings.warn(\n",
      "c:\\Anaconda\\envs\\projet_pite\\lib\\site-packages\\sklearn\\linear_model\\_sag.py:352: ConvergenceWarning: The max_iter was reached which means the coef_ did not converge\n",
      "  warnings.warn(\n",
      "c:\\Anaconda\\envs\\projet_pite\\lib\\site-packages\\sklearn\\linear_model\\_sag.py:352: ConvergenceWarning: The max_iter was reached which means the coef_ did not converge\n",
      "  warnings.warn(\n",
      "c:\\Anaconda\\envs\\projet_pite\\lib\\site-packages\\sklearn\\linear_model\\_sag.py:352: ConvergenceWarning: The max_iter was reached which means the coef_ did not converge\n",
      "  warnings.warn(\n",
      "c:\\Anaconda\\envs\\projet_pite\\lib\\site-packages\\sklearn\\linear_model\\_sag.py:352: ConvergenceWarning: The max_iter was reached which means the coef_ did not converge\n",
      "  warnings.warn(\n",
      "c:\\Anaconda\\envs\\projet_pite\\lib\\site-packages\\sklearn\\linear_model\\_sag.py:352: ConvergenceWarning: The max_iter was reached which means the coef_ did not converge\n",
      "  warnings.warn(\n",
      "c:\\Anaconda\\envs\\projet_pite\\lib\\site-packages\\sklearn\\linear_model\\_sag.py:352: ConvergenceWarning: The max_iter was reached which means the coef_ did not converge\n",
      "  warnings.warn(\n",
      "c:\\Anaconda\\envs\\projet_pite\\lib\\site-packages\\sklearn\\linear_model\\_sag.py:352: ConvergenceWarning: The max_iter was reached which means the coef_ did not converge\n",
      "  warnings.warn(\n",
      "c:\\Anaconda\\envs\\projet_pite\\lib\\site-packages\\sklearn\\linear_model\\_sag.py:352: ConvergenceWarning: The max_iter was reached which means the coef_ did not converge\n",
      "  warnings.warn(\n",
      "c:\\Anaconda\\envs\\projet_pite\\lib\\site-packages\\sklearn\\linear_model\\_sag.py:352: ConvergenceWarning: The max_iter was reached which means the coef_ did not converge\n",
      "  warnings.warn(\n"
     ]
    },
    {
     "name": "stdout",
     "output_type": "stream",
     "text": [
      "Best accuracy: 0.5826235628526579 was obtained with parameters: {'C': 0.15000000000000002, 'multi_class': 'multinomial'}\n",
      "Finding best parameters for LDA...\n",
      "Fitting 5 folds for each of 3 candidates, totalling 15 fits\n",
      "Best accuracy: 0.5817988205846167 was obtained with parameters: {'solver': 'lsqr'}\n",
      "Finding best parameters for NB...\n",
      "Fitting 5 folds for each of 1 candidates, totalling 5 fits\n",
      "Best accuracy: 0.4944431716940308 was obtained with parameters: {}\n",
      "Finding best parameters for SVM...\n",
      "Fitting 5 folds for each of 16 candidates, totalling 80 fits\n",
      "Best accuracy: 0.5838666157566502 was obtained with parameters: {'C': 0.1, 'kernel': 'linear'}\n"
     ]
    }
   ],
   "source": [
    "testing_model(dict_models, X_train, y_train)"
   ]
  },
  {
   "cell_type": "markdown",
   "metadata": {},
   "source": [
    "# Results"
   ]
  },
  {
   "cell_type": "code",
   "execution_count": 23,
   "metadata": {},
   "outputs": [],
   "source": [
    "def make_pred_and_show_results(model, X_train, y_train, X_test, y_test, confusion_matrix=True):\n",
    "    ## Fit model and make predictions\n",
    "    model.fit(X_train, y_train)\n",
    "    train_pred = model.predict(X_train)\n",
    "    test_pred = model.predict(X_test)\n",
    "\n",
    "    ## Accuracy score for train and test set\n",
    "    print(f\"Accuracy score for train set : {accuracy_score(y_train, train_pred)} ({round(accuracy_score(y_train, train_pred)*100, 2)}%)\")\n",
    "    print(f\"Accuracy score for test set : {accuracy_score(y_test, test_pred)} ({round(accuracy_score(y_test, test_pred)*100, 2)}%)\")\n",
    "\n",
    "    ## Plot confusions matrixes\n",
    "    if confusion_matrix:\n",
    "        f, axs = plt.subplots(2,2, figsize=(15,15))\n",
    "        axs = axs.flatten()\n",
    "\n",
    "        options = [\n",
    "            (\"Confusion matrix for train set\", None, y_train, train_pred),\n",
    "            (\"Normalized confusion matrix for train set\", \"true\", y_train, train_pred),\n",
    "            (\"Confusion matrix for test set\", None, y_test, test_pred),\n",
    "            (\"Normalized confusion matrix for test set\", \"true\", y_test, test_pred)  \n",
    "        ]\n",
    "\n",
    "        for index, (title, normalize, y, pred) in enumerate(options):\n",
    "            matrix = ConfusionMatrixDisplay.from_predictions(y, pred, labels=['win', 'draw', 'lose'], normalize=normalize, cmap=plt.cm.Blues, ax=axs[index])\n",
    "            matrix.ax_.set_title(title)"
   ]
  },
  {
   "cell_type": "markdown",
   "metadata": {},
   "source": [
    "## SVC"
   ]
  },
  {
   "cell_type": "code",
   "execution_count": 24,
   "metadata": {},
   "outputs": [],
   "source": [
    "df = match_data\n",
    "y = df['result']\n",
    "X = df.loc[:, 'odds_home_winning':'possessions']"
   ]
  },
  {
   "cell_type": "code",
   "execution_count": 25,
   "metadata": {},
   "outputs": [
    {
     "name": "stdout",
     "output_type": "stream",
     "text": [
      "Accuracy score for train set : 0.5789039967037495 (57.89%)\n",
      "Accuracy score for test set : 0.5799011532125206 (57.99%)\n"
     ]
    }
   ],
   "source": [
    "svc1 = SVC(C=0.1, kernel='linear', random_state=0)\n",
    "make_pred_and_show_results(svc1, X_train, y_train, X_test, y_test, confusion_matrix=False)"
   ]
  },
  {
   "cell_type": "markdown",
   "metadata": {},
   "source": [
    "### Finding the best number of matches to use for the model"
   ]
  },
  {
   "cell_type": "code",
   "execution_count": 26,
   "metadata": {},
   "outputs": [],
   "source": [
    "def best_number_of_matches(match_data, model, nb_of_matches):\n",
    "    accuracy_dict = {}\n",
    "    for n in nb_of_matches:\n",
    "        if n > len(match_data):\n",
    "            n = len(match_data)\n",
    "        df = match_data[-n:]\n",
    "        y_nb = df['result']\n",
    "        X_nb = df.loc[:, 'odds_home_winning':'possessions']\n",
    "        X_train_nb, X_test_nb, y_train_nb, y_test_nb = train_test_split(X_nb, y_nb, test_size=0.20, random_state=1, shuffle=True)\n",
    "        model.fit(X_train_nb, y_train_nb)\n",
    "        pred = model.predict(X_test_nb)\n",
    "        accuracy_dict[n] = accuracy_score(y_test_nb, pred)\n",
    "    return max(accuracy_dict, key=accuracy_dict.get)"
   ]
  },
  {
   "cell_type": "code",
   "execution_count": 27,
   "metadata": {},
   "outputs": [
    {
     "data": {
      "text/plain": [
       "1010"
      ]
     },
     "execution_count": 27,
     "metadata": {},
     "output_type": "execute_result"
    }
   ],
   "source": [
    "nb_of_matches = range(100,3000,10)\n",
    "max_nb_of_matches = best_number_of_matches(df, svc1, nb_of_matches)\n",
    "max_nb_of_matches"
   ]
  },
  {
   "cell_type": "markdown",
   "metadata": {},
   "source": [
    "### Using 1010 previous matches"
   ]
  },
  {
   "cell_type": "code",
   "execution_count": 28,
   "metadata": {},
   "outputs": [],
   "source": [
    "df = match_data[-max_nb_of_matches:]\n",
    "\n",
    "y = df['result']\n",
    "X = df.loc[:, 'odds_home_winning':'possessions']\n",
    "\n",
    "X_train, X_test, y_train, y_test = train_test_split(X, y, test_size=0.20, random_state=1, shuffle=True)"
   ]
  },
  {
   "cell_type": "code",
   "execution_count": 29,
   "metadata": {},
   "outputs": [
    {
     "name": "stdout",
     "output_type": "stream",
     "text": [
      "Accuracy score for train set : 0.6064356435643564 (60.64%)\n",
      "Accuracy score for test set : 0.6732673267326733 (67.33%)\n"
     ]
    }
   ],
   "source": [
    "svc2 = SVC(C=0.1, kernel='linear', random_state=0)\n",
    "make_pred_and_show_results(svc2, X_train, y_train, X_test, y_test, confusion_matrix=False)"
   ]
  },
  {
   "cell_type": "markdown",
   "metadata": {},
   "source": [
    "### Not using betting odds"
   ]
  },
  {
   "cell_type": "code",
   "execution_count": 30,
   "metadata": {},
   "outputs": [],
   "source": [
    "df = match_data[-max_nb_of_matches:]\n",
    "\n",
    "y = df['result']\n",
    "X = df.loc[:, 'on_target_shot':'possessions']\n",
    "\n",
    "X_train, X_test, y_train, y_test = train_test_split(X, y, test_size=0.20, random_state=1, shuffle=True)"
   ]
  },
  {
   "cell_type": "code",
   "execution_count": 31,
   "metadata": {},
   "outputs": [
    {
     "name": "stdout",
     "output_type": "stream",
     "text": [
      "Accuracy score for train set : 0.5594059405940595 (55.94%)\n",
      "Accuracy score for test set : 0.599009900990099 (59.9%)\n"
     ]
    }
   ],
   "source": [
    "svc3 = SVC(C=0.1, kernel='linear', random_state=0)\n",
    "make_pred_and_show_results(svc3, X_train, y_train, X_test, y_test, confusion_matrix=False)"
   ]
  },
  {
   "cell_type": "markdown",
   "metadata": {},
   "source": [
    "## Linear Discriminant Analysis"
   ]
  },
  {
   "cell_type": "code",
   "execution_count": 32,
   "metadata": {},
   "outputs": [],
   "source": [
    "df = match_data\n",
    "y = df['result']\n",
    "X = df.loc[:, 'odds_home_winning':'possessions']"
   ]
  },
  {
   "cell_type": "code",
   "execution_count": 33,
   "metadata": {},
   "outputs": [
    {
     "name": "stdout",
     "output_type": "stream",
     "text": [
      "Accuracy score for train set : 0.5556930693069307 (55.57%)\n",
      "Accuracy score for test set : 0.6089108910891089 (60.89%)\n"
     ]
    }
   ],
   "source": [
    "lda1 = LinearDiscriminantAnalysis(solver='lsqr')\n",
    "make_pred_and_show_results(lda1, X_train, y_train, X_test, y_test, confusion_matrix=False)"
   ]
  },
  {
   "cell_type": "markdown",
   "metadata": {},
   "source": [
    "### Finding the best number of matches to use for the model"
   ]
  },
  {
   "cell_type": "code",
   "execution_count": 34,
   "metadata": {},
   "outputs": [
    {
     "data": {
      "text/plain": [
       "1230"
      ]
     },
     "execution_count": 34,
     "metadata": {},
     "output_type": "execute_result"
    }
   ],
   "source": [
    "nb_of_matches = range(100,3000,10)\n",
    "max_nb_of_matches = best_number_of_matches(df, lda1, nb_of_matches)\n",
    "max_nb_of_matches"
   ]
  },
  {
   "cell_type": "markdown",
   "metadata": {},
   "source": [
    "### Using 1230 previous matches"
   ]
  },
  {
   "cell_type": "code",
   "execution_count": 35,
   "metadata": {},
   "outputs": [],
   "source": [
    "df = match_data[-max_nb_of_matches:]\n",
    "\n",
    "y = df['result']\n",
    "X = df.loc[:, 'odds_home_winning':'possessions']\n",
    "\n",
    "X_train, X_test, y_train, y_test = train_test_split(X, y, test_size=0.20, random_state=1, shuffle=True)"
   ]
  },
  {
   "cell_type": "code",
   "execution_count": 36,
   "metadata": {},
   "outputs": [
    {
     "name": "stdout",
     "output_type": "stream",
     "text": [
      "Accuracy score for train set : 0.5955284552845529 (59.55%)\n",
      "Accuracy score for test set : 0.6788617886178862 (67.89%)\n"
     ]
    }
   ],
   "source": [
    "lda2 = LinearDiscriminantAnalysis(solver='lsqr')\n",
    "make_pred_and_show_results(lda2, X_train, y_train, X_test, y_test, confusion_matrix=False)"
   ]
  },
  {
   "cell_type": "markdown",
   "metadata": {},
   "source": [
    "### Not using betting odds"
   ]
  },
  {
   "cell_type": "code",
   "execution_count": 37,
   "metadata": {},
   "outputs": [],
   "source": [
    "df = match_data[-max_nb_of_matches:]\n",
    "\n",
    "y = df['result']\n",
    "X = df.loc[:, 'on_target_shot':'possessions']\n",
    "\n",
    "X_train, X_test, y_train, y_test = train_test_split(X, y, test_size=0.20, random_state=1, shuffle=True)"
   ]
  },
  {
   "cell_type": "code",
   "execution_count": 38,
   "metadata": {},
   "outputs": [
    {
     "name": "stdout",
     "output_type": "stream",
     "text": [
      "Accuracy score for train set : 0.532520325203252 (53.25%)\n",
      "Accuracy score for test set : 0.5813008130081301 (58.13%)\n"
     ]
    }
   ],
   "source": [
    "lda3 = LinearDiscriminantAnalysis(solver='lsqr')\n",
    "make_pred_and_show_results(lda3, X_train, y_train, X_test, y_test, confusion_matrix=False)"
   ]
  }
 ],
 "metadata": {
  "interpreter": {
   "hash": "0082e7621bbb9f45c004d7e21ecbb1e334312c4b91e4d57d43e70cce4381c2f7"
  },
  "kernelspec": {
   "display_name": "Python 3.10.4 ('projet_pite')",
   "language": "python",
   "name": "python3"
  },
  "language_info": {
   "codemirror_mode": {
    "name": "ipython",
    "version": 3
   },
   "file_extension": ".py",
   "mimetype": "text/x-python",
   "name": "python",
   "nbconvert_exporter": "python",
   "pygments_lexer": "ipython3",
   "version": "3.10.4"
  },
  "orig_nbformat": 4
 },
 "nbformat": 4,
 "nbformat_minor": 2
}
